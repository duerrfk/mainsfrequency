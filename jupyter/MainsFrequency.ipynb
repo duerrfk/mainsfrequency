{
 "cells": [
  {
   "cell_type": "code",
   "execution_count": 1,
   "id": "portuguese-hammer",
   "metadata": {},
   "outputs": [],
   "source": [
    "%matplotlib inline\n",
    "import pandas as pd\n",
    "import matplotlib.pyplot as plt\n",
    "import statsmodels.api as sm\n",
    "import scipy.stats as stats\n",
    "import numpy as np"
   ]
  },
  {
   "cell_type": "code",
   "execution_count": 2,
   "id": "supreme-antique",
   "metadata": {},
   "outputs": [],
   "source": [
    "logfile='log-clean.csv'\n",
    "df = pd.read_csv(logfile)"
   ]
  },
  {
   "cell_type": "code",
   "execution_count": 3,
   "id": "hungry-comment",
   "metadata": {},
   "outputs": [
    {
     "data": {
      "text/html": [
       "<div>\n",
       "<style scoped>\n",
       "    .dataframe tbody tr th:only-of-type {\n",
       "        vertical-align: middle;\n",
       "    }\n",
       "\n",
       "    .dataframe tbody tr th {\n",
       "        vertical-align: top;\n",
       "    }\n",
       "\n",
       "    .dataframe thead th {\n",
       "        text-align: right;\n",
       "    }\n",
       "</style>\n",
       "<table border=\"1\" class=\"dataframe\">\n",
       "  <thead>\n",
       "    <tr style=\"text-align: right;\">\n",
       "      <th></th>\n",
       "      <th>f_mains</th>\n",
       "      <th>f_mains_syncd</th>\n",
       "      <th>f_clk_syncd</th>\n",
       "      <th>clk_accuracy_ppm</th>\n",
       "      <th>t_wallclock</th>\n",
       "      <th>t_wallclock_str</th>\n",
       "    </tr>\n",
       "  </thead>\n",
       "  <tbody>\n",
       "    <tr>\n",
       "      <th>0</th>\n",
       "      <td>49.9820</td>\n",
       "      <td>49.9810</td>\n",
       "      <td>41999205</td>\n",
       "      <td>19</td>\n",
       "      <td>1663595612501951690</td>\n",
       "      <td>2022-09-19 13:53:32</td>\n",
       "    </tr>\n",
       "    <tr>\n",
       "      <th>1</th>\n",
       "      <td>49.9864</td>\n",
       "      <td>49.9854</td>\n",
       "      <td>41999205</td>\n",
       "      <td>19</td>\n",
       "      <td>1663595612501951690</td>\n",
       "      <td>2022-09-19 13:53:32</td>\n",
       "    </tr>\n",
       "    <tr>\n",
       "      <th>2</th>\n",
       "      <td>49.9830</td>\n",
       "      <td>49.9820</td>\n",
       "      <td>41999205</td>\n",
       "      <td>19</td>\n",
       "      <td>1663595612501951690</td>\n",
       "      <td>2022-09-19 13:53:32</td>\n",
       "    </tr>\n",
       "    <tr>\n",
       "      <th>3</th>\n",
       "      <td>49.9779</td>\n",
       "      <td>49.9769</td>\n",
       "      <td>41999205</td>\n",
       "      <td>19</td>\n",
       "      <td>1663595612501951690</td>\n",
       "      <td>2022-09-19 13:53:32</td>\n",
       "    </tr>\n",
       "    <tr>\n",
       "      <th>4</th>\n",
       "      <td>49.9876</td>\n",
       "      <td>49.9867</td>\n",
       "      <td>41999205</td>\n",
       "      <td>19</td>\n",
       "      <td>1663595612501951690</td>\n",
       "      <td>2022-09-19 13:53:32</td>\n",
       "    </tr>\n",
       "  </tbody>\n",
       "</table>\n",
       "</div>"
      ],
      "text/plain": [
       "   f_mains  f_mains_syncd  f_clk_syncd  clk_accuracy_ppm          t_wallclock  \\\n",
       "0  49.9820        49.9810     41999205                19  1663595612501951690   \n",
       "1  49.9864        49.9854     41999205                19  1663595612501951690   \n",
       "2  49.9830        49.9820     41999205                19  1663595612501951690   \n",
       "3  49.9779        49.9769     41999205                19  1663595612501951690   \n",
       "4  49.9876        49.9867     41999205                19  1663595612501951690   \n",
       "\n",
       "       t_wallclock_str  \n",
       "0  2022-09-19 13:53:32  \n",
       "1  2022-09-19 13:53:32  \n",
       "2  2022-09-19 13:53:32  \n",
       "3  2022-09-19 13:53:32  \n",
       "4  2022-09-19 13:53:32  "
      ]
     },
     "execution_count": 3,
     "metadata": {},
     "output_type": "execute_result"
    }
   ],
   "source": [
    "df.head()\n",
    "#len(df)\n",
    "#df.dtypes\n",
    "#df.columns.values"
   ]
  },
  {
   "cell_type": "code",
   "execution_count": 4,
   "id": "advisory-development",
   "metadata": {},
   "outputs": [
    {
     "name": "stdout",
     "output_type": "stream",
     "text": [
      "min(f) = 49.8985 Hz\n",
      "max(f) = 50.084 Hz\n",
      "mean(f) = 49.99746010472713 Hz\n",
      "mean_conf95(f) = [49.99743707491953,49.99748313453473]\n",
      "mse(f) = 0.0004523008169940214\n"
     ]
    }
   ],
   "source": [
    "# Suppress phase shift events by taking the median over 5 samples. \n",
    "# A phase shift event is defined as a single long period immediately \n",
    "# followed by a single short period.\n",
    "df_f = df.f_mains_syncd\n",
    "df_f_clean = df_f.groupby(np.arange(len(df_f))//5).median()\n",
    "\n",
    "f_min = df_f_clean.min()\n",
    "f_max = df_f_clean.max()\n",
    "f_mean = np.mean(df_f_clean)\n",
    "f_std = np.std(df_f_clean)\n",
    "f_sem = stats.sem(df_f_clean)\n",
    "\n",
    "# 95 % confidence interval of the mean.\n",
    "# Here \"scale\" is not the std. dev. (sigma) as usual, \n",
    "# but the standard error of the mean (sem = sigma/sqrt(n)) \n",
    "f_mean_l,f_mean_h = stats.norm.interval(0.95, loc=f_mean, scale=f_sem)\n",
    "\n",
    "f_error = df_f_clean - 50.0\n",
    "f_mse = np.mean(np.square(f_error))\n",
    "\n",
    "print(\"min(f) = \" + str(f_min) + \" Hz\")\n",
    "print(\"max(f) = \" + str(f_max) + \" Hz\")\n",
    "print(\"mean(f) = \" + str(f_mean) + \" Hz\")\n",
    "print(\"mean_conf95(f) = [\" + str(f_mean_l) + \",\" + str(f_mean_h) + \"]\")\n",
    "print(\"mse(f) = \" + str(f_mse))"
   ]
  },
  {
   "cell_type": "code",
   "execution_count": 5,
   "id": "encouraging-stomach",
   "metadata": {},
   "outputs": [
    {
     "data": {
      "image/png": "[encoded data removed]",
      "text/plain": [
       "<Figure size 432x288 with 1 Axes>"
      ]
     },
     "metadata": {
      "needs_background": "light"
     },
     "output_type": "display_data"
    }
   ],
   "source": [
    "bin_sizes, _, _ = plt.hist(df_f_clean, bins=100)\n",
    "plt.ylabel('Sample count')\n",
    "plt.xlabel('Mains frequency [Hz]');"
   ]
  },
  {
   "cell_type": "code",
   "execution_count": 6,
   "id": "unlimited-factor",
   "metadata": {},
   "outputs": [
    {
     "data": {
      "image/png": "[encoded data removed]",
      "text/plain": [
       "<Figure size 432x288 with 1 Axes>"
      ]
     },
     "metadata": {
      "needs_background": "light"
     },
     "output_type": "display_data"
    }
   ],
   "source": [
    "qqplot = sm.qqplot(df_f_clean, loc=f_mean, scale=f_std, line=\"45\")\n",
    "plt.show()"
   ]
  },
  {
   "cell_type": "code",
   "execution_count": 7,
   "id": "imported-priority",
   "metadata": {},
   "outputs": [
    {
     "data": {
      "image/png": "[encoded data removed]",
      "text/plain": [
       "<Figure size 432x288 with 1 Axes>"
      ]
     },
     "metadata": {
      "needs_background": "light"
     },
     "output_type": "display_data"
    }
   ],
   "source": [
    "df_f = df_f_clean\n",
    "# Downsampling\n",
    "# Note: df_f_clean has 50/5 samples per second due to taking the median over 5 samples \n",
    "# for phase-shift event removal (see above).\n",
    "df_f_ds = df_f.groupby(np.arange(len(df_f))//(50/5*3600)).mean()\n",
    "_ = df_f_ds.plot(y='f_mains_syncd', use_index=True)"
   ]
  },
  {
   "cell_type": "code",
   "execution_count": 8,
   "id": "alien-accommodation",
   "metadata": {},
   "outputs": [
    {
     "data": {
      "text/html": [
       "<div>\n",
       "<style scoped>\n",
       "    .dataframe tbody tr th:only-of-type {\n",
       "        vertical-align: middle;\n",
       "    }\n",
       "\n",
       "    .dataframe tbody tr th {\n",
       "        vertical-align: top;\n",
       "    }\n",
       "\n",
       "    .dataframe thead th {\n",
       "        text-align: right;\n",
       "    }\n",
       "</style>\n",
       "<table border=\"1\" class=\"dataframe\">\n",
       "  <thead>\n",
       "    <tr style=\"text-align: right;\">\n",
       "      <th></th>\n",
       "      <th>f_mains</th>\n",
       "      <th>f_mains_syncd</th>\n",
       "      <th>f_clk_syncd</th>\n",
       "      <th>clk_accuracy_ppm</th>\n",
       "      <th>t_wallclock</th>\n",
       "      <th>t_wallclock_str</th>\n",
       "    </tr>\n",
       "  </thead>\n",
       "  <tbody>\n",
       "    <tr>\n",
       "      <th>9402544</th>\n",
       "      <td>50.2517</td>\n",
       "      <td>50.2509</td>\n",
       "      <td>41999295</td>\n",
       "      <td>17</td>\n",
       "      <td>1663783672537745292</td>\n",
       "      <td>2022-09-21 18:07:52</td>\n",
       "    </tr>\n",
       "    <tr>\n",
       "      <th>9402545</th>\n",
       "      <td>49.6986</td>\n",
       "      <td>49.6977</td>\n",
       "      <td>41999295</td>\n",
       "      <td>17</td>\n",
       "      <td>1663783672537745292</td>\n",
       "      <td>2022-09-21 18:07:52</td>\n",
       "    </tr>\n",
       "    <tr>\n",
       "      <th>14318189</th>\n",
       "      <td>50.3344</td>\n",
       "      <td>50.3335</td>\n",
       "      <td>41999300</td>\n",
       "      <td>17</td>\n",
       "      <td>1663881991749198417</td>\n",
       "      <td>2022-09-22 21:26:31</td>\n",
       "    </tr>\n",
       "    <tr>\n",
       "      <th>14318190</th>\n",
       "      <td>49.6748</td>\n",
       "      <td>49.6740</td>\n",
       "      <td>41999300</td>\n",
       "      <td>17</td>\n",
       "      <td>1663881991749198417</td>\n",
       "      <td>2022-09-22 21:26:31</td>\n",
       "    </tr>\n",
       "  </tbody>\n",
       "</table>\n",
       "</div>"
      ],
      "text/plain": [
       "          f_mains  f_mains_syncd  f_clk_syncd  clk_accuracy_ppm  \\\n",
       "9402544   50.2517        50.2509     41999295                17   \n",
       "9402545   49.6986        49.6977     41999295                17   \n",
       "14318189  50.3344        50.3335     41999300                17   \n",
       "14318190  49.6748        49.6740     41999300                17   \n",
       "\n",
       "                  t_wallclock      t_wallclock_str  \n",
       "9402544   1663783672537745292  2022-09-21 18:07:52  \n",
       "9402545   1663783672537745292  2022-09-21 18:07:52  \n",
       "14318189  1663881991749198417  2022-09-22 21:26:31  \n",
       "14318190  1663881991749198417  2022-09-22 21:26:31  "
      ]
     },
     "execution_count": 8,
     "metadata": {},
     "output_type": "execute_result"
    }
   ],
   "source": [
    "# The regular interval for mains frequency is [49.8 Hz,50.2 Hz]. \n",
    "# Any frequency outside this interval is abnormal, e.g., a phase-shift event \n",
    "# (single pair of outliers; non-critical) or a long-term deviation (critical).\n",
    "df_selected = df.loc[(df.f_mains_syncd > 50.2) | (df.f_mains_syncd < 49.8)]\n",
    "df_selected.head()"
   ]
  },
  {
   "cell_type": "code",
   "execution_count": 9,
   "id": "laughing-large",
   "metadata": {},
   "outputs": [
    {
     "name": "stdout",
     "output_type": "stream",
     "text": [
      "min(f) = 41998753 Hz\n",
      "max(f) = 42000406 Hz\n",
      "mean(f) = 41999294.67595137 Hz\t\t95% conf. int. = [41999294.66405772,41999294.68784502]\n"
     ]
    }
   ],
   "source": [
    "fclk_min = df.f_clk_syncd.min()\n",
    "fclk_max = df.f_clk_syncd.max()\n",
    "fclk_mean = np.mean(df.f_clk_syncd)\n",
    "fclk_std = np.std(df.f_clk_syncd)\n",
    "fclk_sem = stats.sem(df.f_clk_syncd)\n",
    "\n",
    "# 95 % confidence interval\n",
    "fclkmean_l,fclkmean_h = stats.norm.interval(0.95, loc=fclk_mean, scale=fclk_sem)\n",
    "\n",
    "print(\"min(f) = \" + str(fclk_min) + \" Hz\")\n",
    "print(\"max(f) = \" + str(fclk_max) + \" Hz\")\n",
    "print(\"mean(f) = \" + str(fclk_mean) + \" Hz\" + \"\\t\\t95% conf. int. = [\" + str(fclkmean_l) + \",\" + str(fclkmean_h) + \"]\")"
   ]
  },
  {
   "cell_type": "code",
   "execution_count": 10,
   "id": "affected-version",
   "metadata": {},
   "outputs": [
    {
     "data": {
      "image/png": "[encoded data removed]",
      "text/plain": [
       "<Figure size 432x288 with 1 Axes>"
      ]
     },
     "metadata": {
      "needs_background": "light"
     },
     "output_type": "display_data"
    }
   ],
   "source": [
    "bin_sizes, _, _ = plt.hist(df.f_clk_syncd/1000000, bins=100)\n",
    "plt.ylabel('Sample count')\n",
    "plt.xlabel('Clock frequency [MHz]');"
   ]
  },
  {
   "cell_type": "code",
   "execution_count": 11,
   "id": "blond-morocco",
   "metadata": {},
   "outputs": [
    {
     "data": {
      "image/png": "[encoded data removed]",
      "text/plain": [
       "<Figure size 432x288 with 1 Axes>"
      ]
     },
     "metadata": {
      "needs_background": "light"
     },
     "output_type": "display_data"
    }
   ],
   "source": [
    "df_acc = df.clk_accuracy_ppm\n",
    "# Downsample by calculating mean value for each minute (60 samples)\n",
    "df_acc_ds = df_acc.groupby(np.arange(len(df_acc))//60).mean()\n",
    "_ = df_acc_ds.plot(y='clk_accuracy_ppm', use_index=True)"
   ]
  },
  {
   "cell_type": "code",
   "execution_count": null,
   "id": "worthy-bridal",
   "metadata": {},
   "outputs": [],
   "source": []
  }
 ],
 "metadata": {
  "kernelspec": {
   "display_name": "Python 3",
   "language": "python",
   "name": "python3"
  },
  "language_info": {
   "codemirror_mode": {
    "name": "ipython",
    "version": 3
   },
   "file_extension": ".py",
   "mimetype": "text/x-python",
   "name": "python",
   "nbconvert_exporter": "python",
   "pygments_lexer": "ipython3",
   "version": "3.9.2"
  }
 },
 "nbformat": 4,
 "nbformat_minor": 5
}
